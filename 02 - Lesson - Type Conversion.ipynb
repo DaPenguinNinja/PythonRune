{
  "cells": [
    {
      "cell_type": "markdown",
      "metadata": {
        "id": "3yGBaNObjaL_"
      },
      "source": [
        "# Type Conversion\n",
        "- More about formatted strings\n",
        "- Types are not the same\n",
        "- Convert them with **int(), float(), str()**"
      ]
    },
    {
      "cell_type": "code",
      "execution_count": 2,
      "metadata": {
        "id": "2a1bhvxhjaNf",
        "outputId": "d550a447-2f79-4a78-f440-ade78206cfc7",
        "colab": {
          "base_uri": "https://localhost:8080/"
        }
      },
      "outputs": [
        {
          "output_type": "stream",
          "name": "stdout",
          "text": [
            "What is your name? kdk\n",
            "Hello kdk!\n",
            "What is your birth year? f\n",
            "You were born in f.\n"
          ]
        }
      ],
      "source": [
        "name = input(\"What is your name? \")\n",
        "print(f\"Hello {name}!\")\n",
        "birth_year = input(\"What is your birth year? \")\n",
        "print(f\"You were born in {birth_year}.\")"
      ]
    },
    {
      "cell_type": "code",
      "source": [
        "name = input(\"What is your name? \")\n",
        "print(f\"Hello {name}!\")\n",
        "birth_year = input(\"What is your birth year?\" )\n",
        "print(f\"Your year of birth is {birth_year}.\")"
      ],
      "metadata": {
        "id": "bFTZmn53kLCj",
        "outputId": "1c81e58e-69e1-4e94-e174-e21910787c4d",
        "colab": {
          "base_uri": "https://localhost:8080/"
        }
      },
      "execution_count": 6,
      "outputs": [
        {
          "output_type": "stream",
          "name": "stdout",
          "text": [
            "What is your name? Joshua\n",
            "Hello Joshua!\n",
            "What is your birth year?1935\n",
            "Your year of birth is 1935.\n"
          ]
        }
      ]
    },
    {
      "cell_type": "code",
      "execution_count": 8,
      "metadata": {
        "id": "U93q3htjjaNi",
        "outputId": "c06091bb-d450-441d-8511-57c6834f3076",
        "colab": {
          "base_uri": "https://localhost:8080/",
          "height": 253
        }
      },
      "outputs": [
        {
          "name": "stdout",
          "output_type": "stream",
          "text": [
            "What is your name? petet\n",
            "Hello PETET!\n",
            "What is your birth year? 1948\n"
          ]
        },
        {
          "output_type": "error",
          "ename": "TypeError",
          "evalue": "ignored",
          "traceback": [
            "\u001b[0;31m---------------------------------------------------------------------------\u001b[0m",
            "\u001b[0;31mTypeError\u001b[0m                                 Traceback (most recent call last)",
            "\u001b[0;32m<ipython-input-8-2a8e69956432>\u001b[0m in \u001b[0;36m<module>\u001b[0;34m()\u001b[0m\n\u001b[1;32m      2\u001b[0m \u001b[0mprint\u001b[0m\u001b[0;34m(\u001b[0m\u001b[0;34mf\"Hello {name.upper()}!\"\u001b[0m\u001b[0;34m)\u001b[0m\u001b[0;34m\u001b[0m\u001b[0;34m\u001b[0m\u001b[0m\n\u001b[1;32m      3\u001b[0m \u001b[0mbirth_year\u001b[0m \u001b[0;34m=\u001b[0m \u001b[0minput\u001b[0m\u001b[0;34m(\u001b[0m\u001b[0;34m\"What is your birth year? \"\u001b[0m\u001b[0;34m)\u001b[0m\u001b[0;34m\u001b[0m\u001b[0;34m\u001b[0m\u001b[0m\n\u001b[0;32m----> 4\u001b[0;31m \u001b[0mprint\u001b[0m\u001b[0;34m(\u001b[0m\u001b[0;34mf\"You are {2021 - birth_year} old!\"\u001b[0m\u001b[0;34m)\u001b[0m\u001b[0;34m\u001b[0m\u001b[0;34m\u001b[0m\u001b[0m\n\u001b[0m",
            "\u001b[0;31mTypeError\u001b[0m: unsupported operand type(s) for -: 'int' and 'str'"
          ]
        }
      ],
      "source": [
        "name = input(\"What is your name? \")\n",
        "print(f\"Hello {name.upper()}!\")\n",
        "birth_year = input(\"What is your birth year? \")\n",
        "print(f\"You are {2021 - birth_year} old!\")"
      ]
    },
    {
      "cell_type": "code",
      "execution_count": 9,
      "metadata": {
        "id": "OxlM7ObvjaNs",
        "outputId": "f112951d-70ba-4090-f800-cad0a5e06210",
        "colab": {
          "base_uri": "https://localhost:8080/"
        }
      },
      "outputs": [
        {
          "output_type": "execute_result",
          "data": {
            "text/plain": [
              "str"
            ]
          },
          "metadata": {},
          "execution_count": 9
        }
      ],
      "source": [
        "type(birth_year)\n"
      ]
    },
    {
      "cell_type": "code",
      "execution_count": 10,
      "metadata": {
        "id": "CrjoiB7ijaNu",
        "outputId": "9967f541-8c44-45c2-edc0-eaa31899b751",
        "colab": {
          "base_uri": "https://localhost:8080/"
        }
      },
      "outputs": [
        {
          "output_type": "execute_result",
          "data": {
            "text/plain": [
              "1948"
            ]
          },
          "metadata": {},
          "execution_count": 10
        }
      ],
      "source": [
        "int(birth_year)"
      ]
    },
    {
      "cell_type": "code",
      "execution_count": null,
      "metadata": {
        "id": "qLmhT9VZjaNv"
      },
      "outputs": [],
      "source": [
        "name = input(\"What is your name? \")\n",
        "print(f\"Hello {name}!\")\n",
        "birth_year = input(\"What is your birht year? \")\n",
        "birth_year = int(birth_year)\n",
        "print(f\"You are {2021 - birth_year} old!\")"
      ]
    },
    {
      "cell_type": "code",
      "source": [
        "name = input(\"What is your name? \")\n",
        "print(f\"Hello {name.upper()}\")\n",
        "birth_year = int(input(\"What is your birth year? \"))\n",
        "print(f\"you are {2022-birth_year} years old!?!\")"
      ],
      "metadata": {
        "id": "oCMjs7SClqn4",
        "outputId": "4ca5ef87-3e60-4a88-83e0-e15bbee366a2",
        "colab": {
          "base_uri": "https://localhost:8080/"
        }
      },
      "execution_count": 14,
      "outputs": [
        {
          "output_type": "stream",
          "name": "stdout",
          "text": [
            "What is your name? python\n",
            "Hello PYTHON\n",
            "What is your birth year? 1990\n",
            "you are 32 years old!?!\n"
          ]
        }
      ]
    },
    {
      "cell_type": "code",
      "execution_count": 15,
      "metadata": {
        "id": "UHExIEvSjaNv",
        "outputId": "60636f38-425d-4cd0-a86d-c42bcbbba9f4",
        "colab": {
          "base_uri": "https://localhost:8080/"
        }
      },
      "outputs": [
        {
          "output_type": "execute_result",
          "data": {
            "text/plain": [
              "30"
            ]
          },
          "metadata": {},
          "execution_count": 15
        }
      ],
      "source": [
        "int(\"30\")"
      ]
    },
    {
      "cell_type": "code",
      "execution_count": 16,
      "metadata": {
        "id": "Tzra_5zujaN0",
        "outputId": "a67f2991-fd5f-4d95-dd9a-d4c0b56e496e",
        "colab": {
          "base_uri": "https://localhost:8080/"
        }
      },
      "outputs": [
        {
          "output_type": "execute_result",
          "data": {
            "text/plain": [
              "-4"
            ]
          },
          "metadata": {},
          "execution_count": 16
        }
      ],
      "source": [
        "int(\" -4\")"
      ]
    },
    {
      "cell_type": "code",
      "execution_count": 17,
      "metadata": {
        "id": "6Ibmp-oHjaN2",
        "outputId": "08d2401d-4627-4969-9769-6a6070653f97",
        "colab": {
          "base_uri": "https://localhost:8080/"
        }
      },
      "outputs": [
        {
          "output_type": "execute_result",
          "data": {
            "text/plain": [
              "2.0"
            ]
          },
          "metadata": {},
          "execution_count": 17
        }
      ],
      "source": [
        "float(\"2\")"
      ]
    },
    {
      "cell_type": "code",
      "execution_count": 18,
      "metadata": {
        "id": "_aE5QaI7jaN3",
        "outputId": "450b944d-7168-4640-aa83-6f232d0f64b6",
        "colab": {
          "base_uri": "https://localhost:8080/"
        }
      },
      "outputs": [
        {
          "output_type": "execute_result",
          "data": {
            "text/plain": [
              "3.14"
            ]
          },
          "metadata": {},
          "execution_count": 18
        }
      ],
      "source": [
        "float(\"3.14\")"
      ]
    },
    {
      "cell_type": "code",
      "execution_count": 19,
      "metadata": {
        "id": "LKsIgYbjjaN7",
        "outputId": "f55153cb-bdf3-4238-c7e2-eb742d5b9e4a",
        "colab": {
          "base_uri": "https://localhost:8080/"
        }
      },
      "outputs": [
        {
          "output_type": "execute_result",
          "data": {
            "text/plain": [
              "3.0"
            ]
          },
          "metadata": {},
          "execution_count": 19
        }
      ],
      "source": [
        "float(3)"
      ]
    },
    {
      "cell_type": "code",
      "execution_count": 30,
      "metadata": {
        "id": "6dlbDzB1jaN7"
      },
      "outputs": [],
      "source": [
        "s = \"This is a string\"\n",
        "i = 7\n",
        "j='3'"
      ]
    },
    {
      "cell_type": "code",
      "execution_count": 29,
      "metadata": {
        "id": "_DfyBjlzjaN9",
        "outputId": "22e96b38-0032-4b0f-98ed-950ade84deab",
        "colab": {
          "base_uri": "https://localhost:8080/",
          "height": 166
        }
      },
      "outputs": [
        {
          "output_type": "error",
          "ename": "TypeError",
          "evalue": "ignored",
          "traceback": [
            "\u001b[0;31m---------------------------------------------------------------------------\u001b[0m",
            "\u001b[0;31mTypeError\u001b[0m                                 Traceback (most recent call last)",
            "\u001b[0;32m<ipython-input-29-c1921053b55e>\u001b[0m in \u001b[0;36m<module>\u001b[0;34m()\u001b[0m\n\u001b[0;32m----> 1\u001b[0;31m \u001b[0ms\u001b[0m \u001b[0;34m+\u001b[0m \u001b[0mi\u001b[0m\u001b[0;34m\u001b[0m\u001b[0;34m\u001b[0m\u001b[0m\n\u001b[0m",
            "\u001b[0;31mTypeError\u001b[0m: can only concatenate str (not \"int\") to str"
          ]
        }
      ],
      "source": [
        "s + i"
      ]
    },
    {
      "cell_type": "code",
      "execution_count": 26,
      "metadata": {
        "id": "MWPwbcS0jaN9",
        "outputId": "5c670366-b905-4272-da2d-93f748973c13",
        "colab": {
          "base_uri": "https://localhost:8080/",
          "height": 35
        }
      },
      "outputs": [
        {
          "output_type": "execute_result",
          "data": {
            "application/vnd.google.colaboratory.intrinsic+json": {
              "type": "string"
            },
            "text/plain": [
              "'This is a string 7'"
            ]
          },
          "metadata": {},
          "execution_count": 26
        }
      ],
      "source": [
        "s + ' ' + str( i)"
      ]
    },
    {
      "cell_type": "code",
      "execution_count": 31,
      "metadata": {
        "id": "wV-cVcpkjaN9",
        "outputId": "3bc9f004-4f75-417e-9515-04d46a71629e",
        "colab": {
          "base_uri": "https://localhost:8080/"
        }
      },
      "outputs": [
        {
          "output_type": "execute_result",
          "data": {
            "text/plain": [
              "10"
            ]
          },
          "metadata": {},
          "execution_count": 31
        }
      ],
      "source": [
        "int(j) + i"
      ]
    },
    {
      "cell_type": "code",
      "source": [
        ""
      ],
      "metadata": {
        "id": "XVEwFlCkoPaf"
      },
      "execution_count": null,
      "outputs": []
    }
  ],
  "metadata": {
    "kernelspec": {
      "display_name": "Python 3",
      "language": "python",
      "name": "python3"
    },
    "language_info": {
      "codemirror_mode": {
        "name": "ipython",
        "version": 3
      },
      "file_extension": ".py",
      "mimetype": "text/x-python",
      "name": "python",
      "nbconvert_exporter": "python",
      "pygments_lexer": "ipython3",
      "version": "3.8.8"
    },
    "colab": {
      "name": "02 - Lesson - Type Conversion.ipynb",
      "provenance": []
    }
  },
  "nbformat": 4,
  "nbformat_minor": 0
}