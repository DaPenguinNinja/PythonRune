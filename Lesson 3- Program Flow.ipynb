{
  "cells": [
    {
      "cell_type": "markdown",
      "metadata": {
        "id": "view-in-github",
        "colab_type": "text"
      },
      "source": [
        "<a href=\"https://colab.research.google.com/github/DaPenguinNinja/PythonRune/blob/main/Lesson%203-%20Program%20Flow.ipynb\" target=\"_parent\"><img src=\"https://colab.research.google.com/assets/colab-badge.svg\" alt=\"Open In Colab\"/></a>"
      ]
    },
    {
      "cell_type": "markdown",
      "metadata": {
        "id": "Z5LuiP0-Dio9"
      },
      "source": [
        "# Program Flow\n",
        "### Goal\n",
        "- To learn about if-statements\n",
        "- Use if-statements to make a program perform based on variables"
      ]
    },
    {
      "cell_type": "markdown",
      "metadata": {
        "id": "5JQXdfViDipT"
      },
      "source": [
        "### Boolean expression\n",
        "- Equals: a == b\n",
        "- Not Equals: a != b\n",
        "- Less than: a < b\n",
        "- Less than or equal to: a <= b\n",
        "- Greater than: a > b\n",
        "- Greater than or equal to: a >= b"
      ]
    },
    {
      "cell_type": "code",
      "execution_count": 2,
      "metadata": {
        "id": "hj6VGz2xDipW",
        "outputId": "6a7e5a55-1a9c-41fb-a9da-0e8d98ba827d",
        "colab": {
          "base_uri": "https://localhost:8080/"
        }
      },
      "outputs": [
        {
          "output_type": "stream",
          "name": "stdout",
          "text": [
            "they are not equal\n"
          ]
        }
      ],
      "source": [
        "a = 10\n",
        "b = 1\n",
        "if a == b:\n",
        "    print(\"a equals b\")\n",
        "else:\n",
        "    print(\"they are not equal\")"
      ]
    },
    {
      "cell_type": "code",
      "execution_count": 3,
      "metadata": {
        "id": "Rt-cJtKsDipZ"
      },
      "outputs": [],
      "source": [
        "a = 10\n",
        "b = 8\n",
        "if a < b:\n",
        "    print(\"a is less than b\")"
      ]
    },
    {
      "cell_type": "code",
      "execution_count": 4,
      "metadata": {
        "id": "K7GfaoYzDiph",
        "outputId": "295406d2-4563-41b4-cdb2-1ae467729f0d",
        "colab": {
          "base_uri": "https://localhost:8080/"
        }
      },
      "outputs": [
        {
          "output_type": "stream",
          "name": "stdout",
          "text": [
            "a is not greater than b\n"
          ]
        }
      ],
      "source": [
        "a = 12\n",
        "b = 12\n",
        "if a > b:\n",
        "    print(\"a is greater than b\")\n",
        "else:\n",
        "    print(\"a is not greater than b\")"
      ]
    },
    {
      "cell_type": "code",
      "execution_count": null,
      "metadata": {
        "id": "2szJ0Nm0Dipk"
      },
      "outputs": [],
      "source": [
        "a = 13\n",
        "b = 12\n",
        "if a > b:\n",
        "    print(\"a is greater than b\")\n",
        "elif a == b:\n",
        "    print(\"a is equal to b\")\n",
        "else:\n",
        "    print(\"a is less than b\")"
      ]
    },
    {
      "cell_type": "code",
      "source": [
        "c = int(input(\"Enter a number: \"))\n",
        "d = int (input(\"Enter another number: \"))\n",
        "\n",
        "if c > d:\n",
        "    print(\"C is greater thatn D\")\n",
        "elif c<d:\n",
        "    print(\"c is less than D\")\n",
        "else:\n",
        "    print(\"c equals d\") \n",
        "\n"
      ],
      "metadata": {
        "id": "zzmGcqHGECNA",
        "outputId": "6a3c0579-973b-4a91-8b10-d8e7f3becf59",
        "colab": {
          "base_uri": "https://localhost:8080/"
        }
      },
      "execution_count": 10,
      "outputs": [
        {
          "output_type": "stream",
          "name": "stdout",
          "text": [
            "Enter a number: 5\n",
            "Enter another number: 5\n",
            "c equals d\n"
          ]
        }
      ]
    },
    {
      "cell_type": "code",
      "execution_count": 11,
      "metadata": {
        "id": "gLg-_MoODipp",
        "outputId": "9dd796a5-4a38-4327-94f6-e300c5310129",
        "colab": {
          "base_uri": "https://localhost:8080/"
        }
      },
      "outputs": [
        {
          "output_type": "stream",
          "name": "stdout",
          "text": [
            "a does not equal b\n"
          ]
        }
      ],
      "source": [
        "a = 10\n",
        "b = 7\n",
        "if a != b:\n",
        "    print(\"a does not equal b\")"
      ]
    },
    {
      "cell_type": "code",
      "execution_count": null,
      "metadata": {
        "id": "EhLaHdHUDip1"
      },
      "outputs": [],
      "source": [
        ""
      ]
    }
  ],
  "metadata": {
    "kernelspec": {
      "display_name": "Python 3",
      "language": "python",
      "name": "python3"
    },
    "language_info": {
      "codemirror_mode": {
        "name": "ipython",
        "version": 3
      },
      "file_extension": ".py",
      "mimetype": "text/x-python",
      "name": "python",
      "nbconvert_exporter": "python",
      "pygments_lexer": "ipython3",
      "version": "3.8.8"
    },
    "colab": {
      "name": "03 - Lesson - Program Flow.ipynb",
      "provenance": [],
      "include_colab_link": true
    }
  },
  "nbformat": 4,
  "nbformat_minor": 0
}