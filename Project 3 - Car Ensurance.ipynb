{
  "cells": [
    {
      "cell_type": "markdown",
      "metadata": {
        "id": "iLQ6uF43GNpk"
      },
      "source": [
        "# Project - Car Ensurance\n",
        "### Goal\n",
        "- Car ensurance calculation based on the following decision tree"
      ]
    },
    {
      "cell_type": "markdown",
      "metadata": {
        "id": "f0nNpvBSGNpu"
      },
      "source": [
        "![alt text](img/DecisionTree.png \"Title\")"
      ]
    },
    {
      "cell_type": "markdown",
      "metadata": {
        "id": "A5bBGYutGNpw"
      },
      "source": [
        "### Description\n",
        "- This is a fictional car insurance company called Car Crash\n",
        "- They calculate the yearly ensurance price based on the current market price of the car\n",
        "- Given the market price: market_price\n",
        "- Then the yearly ensurance price is 9% of the market_price if it is a male above 26 years old.\n",
        "- As we see in the decision tree, we have 4 possible price calculations.\n",
        "- Create a program, which takes input and based on that calculated the correct price for all 4 cases"
      ]
    },
    {
      "cell_type": "code",
      "execution_count": 22,
      "metadata": {
        "id": "wrLAKRxMGNp_",
        "outputId": "ef9c824d-3fa2-4f04-9dea-0e59b60ff299",
        "colab": {
          "base_uri": "https://localhost:8080/"
        }
      },
      "outputs": [
        {
          "output_type": "stream",
          "name": "stdout",
          "text": [
            "Welcome to Car Crash...Car Insurance Company\n",
            "Are you Male or Female?: male\n",
            "male\n",
            "What is your age? 31\n",
            "The insurance is 9%.\n"
          ]
        }
      ],
      "source": [
        "print(\"Welcome to Car Crash...Car Insurance Company\")\n",
        "user = input(\"Are you Male or Female?: \")\n",
        "print(user)\n",
        "user = user.lower()\n",
        "if user=='male':\n",
        "    age = int(input(\"What is your age? \"))\n",
        "    if age > 26:\n",
        "        print(\"The insurance is 9%.\")\n",
        "    else: \n",
        "        print(\"the Insurace is 23.\")\n",
        "if user=='female':\n",
        "    answer = input(\"Do You Like Sports? (Y/N): \")\n",
        "    answer = answer.lower()\n",
        "    if answer=='y':\n",
        "        print(\"The insurance is 21%.\")\n",
        "    else: \n",
        "        print(\"the Insurace is 10%.\")"
      ]
    },
    {
      "cell_type": "code",
      "execution_count": null,
      "metadata": {
        "id": "MxzCL-g8GNqB"
      },
      "outputs": [],
      "source": [
        ""
      ]
    },
    {
      "cell_type": "code",
      "execution_count": null,
      "metadata": {
        "id": "notKeS_vGNqD"
      },
      "outputs": [],
      "source": [
        ""
      ]
    }
  ],
  "metadata": {
    "kernelspec": {
      "display_name": "Python 3",
      "language": "python",
      "name": "python3"
    },
    "language_info": {
      "codemirror_mode": {
        "name": "ipython",
        "version": 3
      },
      "file_extension": ".py",
      "mimetype": "text/x-python",
      "name": "python",
      "nbconvert_exporter": "python",
      "pygments_lexer": "ipython3",
      "version": "3.8.8"
    },
    "colab": {
      "name": "03 - Project - Car Ensurance.ipynb",
      "provenance": []
    }
  },
  "nbformat": 4,
  "nbformat_minor": 0
}