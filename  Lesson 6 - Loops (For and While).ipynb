{
  "cells": [
    {
      "cell_type": "markdown",
      "metadata": {
        "id": "view-in-github",
        "colab_type": "text"
      },
      "source": [
        "<a href=\"https://colab.research.google.com/github/DaPenguinNinja/PythonRune/blob/main/%20Lesson%206%20-%20Loops%20(For%20and%20While).ipynb\" target=\"_parent\"><img src=\"https://colab.research.google.com/assets/colab-badge.svg\" alt=\"Open In Colab\"/></a>"
      ]
    },
    {
      "cell_type": "markdown",
      "metadata": {
        "id": "DMY2oBmedQjr"
      },
      "source": [
        "# Loops\n",
        "### Goal\n",
        "- Learn how to iterate over lists\n",
        "- Iterate over the chars in a string\n",
        "- Create a for-loop over a range\n",
        "- Create a while-loop"
      ]
    },
    {
      "cell_type": "code",
      "execution_count": null,
      "metadata": {
        "id": "eKTQTw06dQj4"
      },
      "outputs": [],
      "source": [
        "my_list = ['First', 'Second', 'Third']"
      ]
    },
    {
      "cell_type": "code",
      "execution_count": null,
      "metadata": {
        "id": "H_EFwHiydQkA"
      },
      "outputs": [],
      "source": [
        "my_list"
      ]
    },
    {
      "cell_type": "code",
      "execution_count": null,
      "metadata": {
        "id": "wXo3Lj7qdQkC"
      },
      "outputs": [],
      "source": [
        "for i in my_list:\n",
        "    print(i)"
      ]
    },
    {
      "cell_type": "code",
      "execution_count": null,
      "metadata": {
        "id": "Q-OfBUfndQkD"
      },
      "outputs": [],
      "source": [
        "s = \"Rune\"\n",
        "\n",
        "for c in s:\n",
        "    print(c)\n",
        "    print(\"Inside loop\")\n",
        "print(\"Outside the loop\")"
      ]
    },
    {
      "cell_type": "code",
      "execution_count": null,
      "metadata": {
        "id": "Zdw5db8hdQkF"
      },
      "outputs": [],
      "source": [
        "for i in range(2, 4):\n",
        "    print(i)"
      ]
    },
    {
      "cell_type": "code",
      "execution_count": null,
      "metadata": {
        "id": "GJ0DjDWGdQkH"
      },
      "outputs": [],
      "source": [
        "my_list"
      ]
    },
    {
      "cell_type": "code",
      "execution_count": null,
      "metadata": {
        "id": "oShGfZuYdQkJ"
      },
      "outputs": [],
      "source": [
        "for i in range(len(my_list)):\n",
        "    print(i, my_list[i])"
      ]
    },
    {
      "cell_type": "code",
      "execution_count": null,
      "metadata": {
        "id": "3iNMEOjvdQkL"
      },
      "outputs": [],
      "source": [
        "value = 10\n",
        "\n",
        "while value > 0:\n",
        "    value = int(input(\"Value? \"))"
      ]
    },
    {
      "cell_type": "markdown",
      "metadata": {
        "id": "XRsFRm_3dQkN"
      },
      "source": [
        "### A few new things"
      ]
    },
    {
      "cell_type": "code",
      "execution_count": null,
      "metadata": {
        "id": "HeLqUCKMdQkR"
      },
      "outputs": [],
      "source": [
        "s = \"abc\"\n",
        "c = 'd'\n",
        "\n",
        "if c in s:\n",
        "    print(\"c is in s\")"
      ]
    },
    {
      "cell_type": "code",
      "execution_count": null,
      "metadata": {
        "id": "U63t4ETVdQkT"
      },
      "outputs": [],
      "source": [
        "if c not in s:\n",
        "    print(\"c is not in s\")"
      ]
    },
    {
      "cell_type": "code",
      "execution_count": null,
      "metadata": {
        "id": "H-izhuOPdQkU"
      },
      "outputs": [],
      "source": [
        "a = 13\n",
        "b = 12\n",
        "c = 10\n",
        "\n",
        "if a < b or b < c:\n",
        "    print(\"awesome\")"
      ]
    },
    {
      "cell_type": "code",
      "execution_count": 1,
      "metadata": {
        "id": "_SP8hxg4dQkV"
      },
      "outputs": [],
      "source": [
        "my_list = ['First', 'Second', 'Third']"
      ]
    },
    {
      "cell_type": "code",
      "source": [
        "my_list"
      ],
      "metadata": {
        "id": "WDBOU_7peqo6",
        "outputId": "8a46c6c2-8255-4de9-e06f-5ceb6385bdbc",
        "colab": {
          "base_uri": "https://localhost:8080/"
        }
      },
      "execution_count": 2,
      "outputs": [
        {
          "output_type": "execute_result",
          "data": {
            "text/plain": [
              "['First', 'Second', 'Third']"
            ]
          },
          "metadata": {},
          "execution_count": 2
        }
      ]
    },
    {
      "cell_type": "code",
      "source": [
        "for item in my_list:\n",
        "    print(item)"
      ],
      "metadata": {
        "id": "wbwQqfwYetPu",
        "outputId": "0bf6f438-e6a4-4a30-bd89-c7f37e6d431b",
        "colab": {
          "base_uri": "https://localhost:8080/"
        }
      },
      "execution_count": 3,
      "outputs": [
        {
          "output_type": "stream",
          "name": "stdout",
          "text": [
            "First\n",
            "Second\n",
            "Third\n"
          ]
        }
      ]
    },
    {
      "cell_type": "code",
      "source": [
        "s = 'Peter'\n",
        "\n",
        "for c in s:\n",
        "    print(c)"
      ],
      "metadata": {
        "id": "VvH6AYAae-_t",
        "outputId": "0cf86387-0417-4b6c-aff9-b89f62e15e9b",
        "colab": {
          "base_uri": "https://localhost:8080/"
        }
      },
      "execution_count": 4,
      "outputs": [
        {
          "output_type": "stream",
          "name": "stdout",
          "text": [
            "P\n",
            "e\n",
            "t\n",
            "e\n",
            "r\n"
          ]
        }
      ]
    },
    {
      "cell_type": "code",
      "source": [
        "for c in s:\n",
        "    print(c)\n",
        "    print(\"Inside the loop\")\n",
        "print(\"Outside the loop\")"
      ],
      "metadata": {
        "id": "bWBI_vgWfLA6",
        "outputId": "04bf29f7-696c-42c0-e3af-948767fd9e8e",
        "colab": {
          "base_uri": "https://localhost:8080/"
        }
      },
      "execution_count": 5,
      "outputs": [
        {
          "output_type": "stream",
          "name": "stdout",
          "text": [
            "P\n",
            "Inside the loop\n",
            "e\n",
            "Inside the loop\n",
            "t\n",
            "Inside the loop\n",
            "e\n",
            "Inside the loop\n",
            "r\n",
            "Inside the loop\n",
            "Outside the loop\n"
          ]
        }
      ]
    },
    {
      "cell_type": "code",
      "source": [
        "for i in range(4):\n",
        "    print(i)"
      ],
      "metadata": {
        "id": "Vf_Vva-TfbLW",
        "outputId": "b52a93e4-8be3-4843-ce9c-270efabbe4ef",
        "colab": {
          "base_uri": "https://localhost:8080/"
        }
      },
      "execution_count": 7,
      "outputs": [
        {
          "output_type": "stream",
          "name": "stdout",
          "text": [
            "0\n",
            "1\n",
            "2\n",
            "3\n"
          ]
        }
      ]
    },
    {
      "cell_type": "code",
      "source": [
        "for i in range(2,4):\n",
        "    print(i)"
      ],
      "metadata": {
        "id": "NtPEv6mBfmLF",
        "outputId": "ff6b9bf8-003f-4dcd-fb96-9925e996ee33",
        "colab": {
          "base_uri": "https://localhost:8080/"
        }
      },
      "execution_count": 8,
      "outputs": [
        {
          "output_type": "stream",
          "name": "stdout",
          "text": [
            "2\n",
            "3\n"
          ]
        }
      ]
    },
    {
      "cell_type": "code",
      "source": [
        "my_list"
      ],
      "metadata": {
        "id": "fsx56WzEfsMe",
        "outputId": "56554a52-5a14-4587-d27a-67ba6f940536",
        "colab": {
          "base_uri": "https://localhost:8080/"
        }
      },
      "execution_count": 9,
      "outputs": [
        {
          "output_type": "execute_result",
          "data": {
            "text/plain": [
              "['First', 'Second', 'Third']"
            ]
          },
          "metadata": {},
          "execution_count": 9
        }
      ]
    },
    {
      "cell_type": "code",
      "source": [
        "for i in range(len(my_list)):\n",
        "    print(i,my_list[i],my_list[-i])"
      ],
      "metadata": {
        "id": "-YIdD3jSfvvm",
        "outputId": "2c8b43aa-96b5-442c-ee21-c9dac584fc3c",
        "colab": {
          "base_uri": "https://localhost:8080/"
        }
      },
      "execution_count": 14,
      "outputs": [
        {
          "output_type": "stream",
          "name": "stdout",
          "text": [
            "0 First First\n",
            "1 Second Third\n",
            "2 Third Second\n"
          ]
        }
      ]
    },
    {
      "cell_type": "code",
      "source": [
        "value = 10\n",
        "\n",
        "while value > 0:\n",
        "    value = int(input(\"Value? \"))"
      ],
      "metadata": {
        "id": "tEJNWrtPf2id",
        "outputId": "2919f218-3c65-4884-cd9a-035d41eaca2e",
        "colab": {
          "base_uri": "https://localhost:8080/"
        }
      },
      "execution_count": 15,
      "outputs": [
        {
          "name": "stdout",
          "output_type": "stream",
          "text": [
            "Value? 3\n",
            "Value? 7\n",
            "Value? 4566\n",
            "Value? 345345\n",
            "Value? -34\n"
          ]
        }
      ]
    },
    {
      "cell_type": "code",
      "source": [
        "s = 'abc'\n",
        "c = 'a'\n",
        "d='t'\n",
        "\n",
        "if c in s:\n",
        "    print(\"c is in s\")"
      ],
      "metadata": {
        "id": "eV9ilVlCgWhd",
        "outputId": "0afb8768-4239-4b08-a90f-9e30d51d2c26",
        "colab": {
          "base_uri": "https://localhost:8080/"
        }
      },
      "execution_count": 19,
      "outputs": [
        {
          "output_type": "stream",
          "name": "stdout",
          "text": [
            "c is in s\n"
          ]
        }
      ]
    },
    {
      "cell_type": "code",
      "source": [
        "\n",
        "if d not in s:\n",
        "    print(\"d is not in s\")"
      ],
      "metadata": {
        "id": "tlQirNsvhUc1",
        "outputId": "0228e240-2534-4eca-f7d3-2a893bf5cd9e",
        "colab": {
          "base_uri": "https://localhost:8080/"
        }
      },
      "execution_count": 20,
      "outputs": [
        {
          "output_type": "stream",
          "name": "stdout",
          "text": [
            "d is not in s\n"
          ]
        }
      ]
    },
    {
      "cell_type": "code",
      "source": [
        "a = 10 \n",
        "b = 12\n",
        "c = 14\n",
        "\n",
        "if a < b and b < c:\n",
        "    print(\"awesome\")\n",
        "if a < b or b <c:\n",
        "    print(\"cool\")"
      ],
      "metadata": {
        "id": "ZzitsxjHhmrD",
        "outputId": "06990a5a-f01f-4e7a-c16f-288991849f8e",
        "colab": {
          "base_uri": "https://localhost:8080/"
        }
      },
      "execution_count": 22,
      "outputs": [
        {
          "output_type": "stream",
          "name": "stdout",
          "text": [
            "awesome\n",
            "cool\n"
          ]
        }
      ]
    },
    {
      "cell_type": "code",
      "source": [
        ""
      ],
      "metadata": {
        "id": "FEBug-HwhtY0"
      },
      "execution_count": null,
      "outputs": []
    }
  ],
  "metadata": {
    "kernelspec": {
      "display_name": "Python 3",
      "language": "python",
      "name": "python3"
    },
    "language_info": {
      "codemirror_mode": {
        "name": "ipython",
        "version": 3
      },
      "file_extension": ".py",
      "mimetype": "text/x-python",
      "name": "python",
      "nbconvert_exporter": "python",
      "pygments_lexer": "ipython3",
      "version": "3.8.8"
    },
    "colab": {
      "name": "06 - Lesson - Loops.ipynb",
      "provenance": [],
      "include_colab_link": true
    }
  },
  "nbformat": 4,
  "nbformat_minor": 0
}