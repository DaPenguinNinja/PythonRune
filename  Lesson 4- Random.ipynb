{
  "cells": [
    {
      "cell_type": "markdown",
      "metadata": {
        "id": "E6hbTUTaZvPD"
      },
      "source": [
        "# Random\n",
        "### Goal\n",
        "- Learn to use Random\n",
        "- This enables us to create simple games"
      ]
    },
    {
      "cell_type": "code",
      "execution_count": 1,
      "metadata": {
        "id": "pcsyT8LIZvPy"
      },
      "outputs": [],
      "source": [
        "import random"
      ]
    },
    {
      "cell_type": "code",
      "execution_count": 17,
      "metadata": {
        "id": "1KFV9MeLZvP7",
        "outputId": "70564f0b-4740-4db7-9596-960b3f6bd59b",
        "colab": {
          "base_uri": "https://localhost:8080/"
        }
      },
      "outputs": [
        {
          "output_type": "stream",
          "name": "stdout",
          "text": [
            "5\n",
            "5\n"
          ]
        }
      ],
      "source": [
        "a=random.randint(1, 6)\n",
        "b=random.randint(3,5)\n",
        "print(a)\n",
        "print(b)"
      ]
    },
    {
      "cell_type": "code",
      "execution_count": 3,
      "metadata": {
        "id": "RT8S0hjFZvP8"
      },
      "outputs": [],
      "source": [
        "a = random.randint(1, 6)"
      ]
    },
    {
      "cell_type": "code",
      "execution_count": 4,
      "metadata": {
        "id": "ZM9kkfbRZvP9",
        "outputId": "91cf5a45-dd2d-4f8e-dde5-76ec6e84b105",
        "colab": {
          "base_uri": "https://localhost:8080/"
        }
      },
      "outputs": [
        {
          "output_type": "execute_result",
          "data": {
            "text/plain": [
              "1"
            ]
          },
          "metadata": {},
          "execution_count": 4
        }
      ],
      "source": [
        "a"
      ]
    },
    {
      "cell_type": "code",
      "execution_count": 5,
      "metadata": {
        "id": "k48GtO3jZvP-",
        "outputId": "9c50daa1-761b-4d13-caa6-48f18306f4a2",
        "colab": {
          "base_uri": "https://localhost:8080/"
        }
      },
      "outputs": [
        {
          "output_type": "execute_result",
          "data": {
            "text/plain": [
              "0.7996474380424725"
            ]
          },
          "metadata": {},
          "execution_count": 5
        }
      ],
      "source": [
        "random.uniform(0, 1)"
      ]
    },
    {
      "cell_type": "code",
      "execution_count": 6,
      "metadata": {
        "id": "YqPKFT0gZvP_",
        "outputId": "0756f802-11b9-4806-c311-09fd05e9841b",
        "colab": {
          "base_uri": "https://localhost:8080/"
        }
      },
      "outputs": [
        {
          "output_type": "execute_result",
          "data": {
            "text/plain": [
              "0.9152367493493183"
            ]
          },
          "metadata": {},
          "execution_count": 6
        }
      ],
      "source": [
        "random.gauss(0, 1)"
      ]
    },
    {
      "cell_type": "raw",
      "metadata": {
        "id": "Uhf42VvtZvQC"
      },
      "source": [
        ""
      ]
    },
    {
      "cell_type": "code",
      "execution_count": null,
      "metadata": {
        "id": "0d3WjrUnZvQG"
      },
      "outputs": [],
      "source": [
        ""
      ]
    }
  ],
  "metadata": {
    "kernelspec": {
      "display_name": "Python 3",
      "language": "python",
      "name": "python3"
    },
    "language_info": {
      "codemirror_mode": {
        "name": "ipython",
        "version": 3
      },
      "file_extension": ".py",
      "mimetype": "text/x-python",
      "name": "python",
      "nbconvert_exporter": "python",
      "pygments_lexer": "ipython3",
      "version": "3.8.8"
    },
    "colab": {
      "name": "04 - Lesson - Random.ipynb",
      "provenance": []
    }
  },
  "nbformat": 4,
  "nbformat_minor": 0
}