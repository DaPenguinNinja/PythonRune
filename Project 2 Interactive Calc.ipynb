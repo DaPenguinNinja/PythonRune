{
  "cells": [
    {
      "cell_type": "markdown",
      "metadata": {
        "id": "view-in-github",
        "colab_type": "text"
      },
      "source": [
        "<a href=\"https://colab.research.google.com/github/DaPenguinNinja/PythonRune/blob/main/Project%202%20Interactive%20Calc.ipynb\" target=\"_parent\"><img src=\"https://colab.research.google.com/assets/colab-badge.svg\" alt=\"Open In Colab\"/></a>"
      ]
    },
    {
      "cell_type": "markdown",
      "metadata": {
        "id": "mv4_9uGb3tLL"
      },
      "source": [
        "# Project - Interactive Calculations\n",
        "### Goal\n",
        "- Multiply two numbers\n",
        "- Days since you were born\n",
        "- Tip calculator"
      ]
    },
    {
      "cell_type": "markdown",
      "metadata": {
        "id": "e3WAKenT3tLk"
      },
      "source": [
        "### Step 1\n",
        "- Input a value from the user and keep it in variable **a**.\n",
        "- Input another value from the user and keep it in variable **b**.\n",
        "- Print the product of the two values (**a*b**)."
      ]
    },
    {
      "cell_type": "code",
      "execution_count": 2,
      "metadata": {
        "colab": {
          "base_uri": "https://localhost:8080/"
        },
        "id": "7-5l1Oa93tLv",
        "outputId": "f89825eb-1659-4756-e4fd-f0e2fb1a57fb"
      },
      "outputs": [
        {
          "name": "stdout",
          "output_type": "stream",
          "text": [
            "Give me a freaking value: 6\n",
            "Release the kraken value: 7\n"
          ]
        }
      ],
      "source": [
        "a= int(input(\"Give me a freaking value: \"))\n",
        "x = int(input(\"Release the kraken value: \"))\n",
        "sum=a*x"
      ]
    },
    {
      "cell_type": "code",
      "execution_count": 22,
      "metadata": {
        "colab": {
          "base_uri": "https://localhost:8080/"
        },
        "id": "ArhaR9qB3tLy",
        "outputId": "9556243e-8475-45c5-9780-fbd74a4a28c2"
      },
      "outputs": [
        {
          "output_type": "stream",
          "name": "stdout",
          "text": [
            "the Value of x * a = 42\n",
            "49\n",
            "<class 'int'>\n",
            "13\n"
          ]
        },
        {
          "output_type": "execute_result",
          "data": {
            "text/plain": [
              "int"
            ]
          },
          "metadata": {},
          "execution_count": 22
        }
      ],
      "source": [
        "print(f\"the Value of x * a = {sum}\")\n",
        "b='4'\n",
        "c='9'\n",
        "x=int(b+c)\n",
        "print(x)\n",
        "print(type(x))\n",
        "g=int(b)\n",
        "m=int(c)\n",
        "print(g+m)\n",
        "type((g+m))"
      ]
    },
    {
      "cell_type": "code",
      "execution_count": null,
      "metadata": {
        "id": "gZ5h1Ujt3tLz"
      },
      "outputs": [],
      "source": [
        ""
      ]
    },
    {
      "cell_type": "markdown",
      "metadata": {
        "id": "zh9XcYSB3tL0"
      },
      "source": [
        "### Step 2\n",
        "- Input how many years the user it.\n",
        "- Convert the years to an integer.\n",
        "- Calculate how many days, hours, minutes, and seconds since the user is born."
      ]
    },
    {
      "cell_type": "code",
      "execution_count": 37,
      "metadata": {
        "colab": {
          "base_uri": "https://localhost:8080/"
        },
        "id": "I9RfAkQD3tL4",
        "outputId": "81360576-659b-4941-93a3-fdd806b26e45"
      },
      "outputs": [
        {
          "name": "stdout",
          "output_type": "stream",
          "text": [
            "How many years on Earth have you lived? 30\n"
          ]
        }
      ],
      "source": [
        "years = input(\"How many years on Earth have you lived? \")\n",
        "years = int(years)\n"
      ]
    },
    {
      "cell_type": "code",
      "execution_count": 38,
      "metadata": {
        "colab": {
          "base_uri": "https://localhost:8080/"
        },
        "id": "FDWNoktp3tL7",
        "outputId": "85d6f124-2ea5-4489-8c23-c7aa8674fc78"
      },
      "outputs": [
        {
          "output_type": "stream",
          "name": "stdout",
          "text": [
            "You lived on earth for 10950 days, 262800 hours, 15768000, and 946080000 seconds.\n"
          ]
        }
      ],
      "source": [
        "days = years*365\n",
        "hours = days * 24\n",
        "minutes = hours * 60\n",
        "seconds = minutes * 60\n",
        "print(f\"You lived on earth for {days} days, {hours} hours, {minutes}, and {seconds} seconds.\")"
      ]
    },
    {
      "cell_type": "code",
      "execution_count": null,
      "metadata": {
        "id": "9gYkWjD23tL8"
      },
      "outputs": [],
      "source": [
        ""
      ]
    },
    {
      "cell_type": "markdown",
      "metadata": {
        "id": "5jxUzrkI3tMB"
      },
      "source": [
        "### Step 3\n",
        "- Here we will make a tip calculator.\n",
        "- Input the price.\n",
        "- Convert the price to an integer.\n",
        "- Input the percentage the user wants to tip.\n",
        "- Convert the percentage to an integer.\n",
        "- Calculate the tip by the following formula: **tip = price $\\times$ percentage_tip / 100**.\n",
        "- Round the tip to two digits.\n",
        "- Print the the tip.\n",
        "- *BONUS:* Adjust the code to take float input of percentage tip"
      ]
    },
    {
      "cell_type": "code",
      "execution_count": 29,
      "metadata": {
        "colab": {
          "base_uri": "https://localhost:8080/"
        },
        "id": "oP4a0-nm3tME",
        "outputId": "8f83bbe8-fef3-4919-ec35-06072b06c977"
      },
      "outputs": [
        {
          "output_type": "stream",
          "name": "stdout",
          "text": [
            "How much was your bill? $35\n",
            "How much of a percentage do you want to tip? 15\n",
            "With a bill of $35 and a 15% for tip, the tip comes out to be 5.25.\n",
            "The Total bill is 40.25.\n"
          ]
        }
      ],
      "source": [
        "price = int(input(\"How much was your bill? $\"))\n",
        "percent = int(input(\"How much of a percentage do you want to tip? \"))\n",
        "tip = price*percent/100\n",
        "round(tip,2)\n",
        "print(f\"With a bill of ${price} and a {percent}% for tip, the tip comes out to be {tip}.\")\n",
        "total = price + tip\n",
        "print(f\"The Total bill is {total}.\")"
      ]
    },
    {
      "cell_type": "code",
      "execution_count": null,
      "metadata": {
        "id": "Vd4-r0WM3tMH"
      },
      "outputs": [],
      "source": [
        ""
      ]
    },
    {
      "cell_type": "code",
      "execution_count": 36,
      "metadata": {
        "colab": {
          "base_uri": "https://localhost:8080/"
        },
        "id": "j6UCS2zL-Bsp",
        "outputId": "93206c77-bb5f-4105-d578-92fbe6b6e851"
      },
      "outputs": [
        {
          "output_type": "stream",
          "name": "stdout",
          "text": [
            "How much was your bill? $35\n",
            "How much of a percentage do you want to tip? 954.45\n",
            "With a bill of $35 and a 954.45% for tip, the tip comes out to be 334.06.\n",
            "The Total bill is 369.06.\n"
          ]
        }
      ],
      "source": [
        "price = int(input(\"How much was your bill? $\"))\n",
        "percent = float(input(\"How much of a percentage do you want to tip? \"))\n",
        "tip = price*percent/100\n",
        "tip=round(tip,2)\n",
        "print(f\"With a bill of ${price} and a {percent}% for tip, the tip comes out to be {tip}.\")\n",
        "total = price + tip\n",
        "print(f\"The Total bill is {total}.\")"
      ]
    },
    {
      "cell_type": "code",
      "execution_count": null,
      "metadata": {
        "id": "AQH2H_1c3tMI"
      },
      "outputs": [],
      "source": [
        ""
      ]
    }
  ],
  "metadata": {
    "kernelspec": {
      "display_name": "Python 3",
      "language": "python",
      "name": "python3"
    },
    "language_info": {
      "codemirror_mode": {
        "name": "ipython",
        "version": 3
      },
      "file_extension": ".py",
      "mimetype": "text/x-python",
      "name": "python",
      "nbconvert_exporter": "python",
      "pygments_lexer": "ipython3",
      "version": "3.8.5"
    },
    "colab": {
      "name": "02 - Project - Interactive Calculations.ipynb",
      "provenance": [],
      "include_colab_link": true
    }
  },
  "nbformat": 4,
  "nbformat_minor": 0
}