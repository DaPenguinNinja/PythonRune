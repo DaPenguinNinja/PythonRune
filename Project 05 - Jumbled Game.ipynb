{
  "cells": [
    {
      "cell_type": "markdown",
      "metadata": {
        "id": "view-in-github",
        "colab_type": "text"
      },
      "source": [
        "<a href=\"https://colab.research.google.com/github/DaPenguinNinja/PythonRune/blob/main/Project%2005%20-%20Jumbled%20Game.ipynb\" target=\"_parent\"><img src=\"https://colab.research.google.com/assets/colab-badge.svg\" alt=\"Open In Colab\"/></a>"
      ]
    },
    {
      "cell_type": "markdown",
      "metadata": {
        "id": "zZGTreThdO16"
      },
      "source": [
        "# Project - Jumbled Game\n",
        "### Goal\n",
        "- Implement the [Jumbled Game](https://en.wikipedia.org/wiki/Jumble)"
      ]
    },
    {
      "cell_type": "markdown",
      "metadata": {
        "id": "g6LfmrDYdO2F"
      },
      "source": [
        "### Description\n",
        "- A word jumble is a word puzzle game that presents the player with a bunch of mixed up letters and requires them to unscramble the letters to find the hidden word.\n",
        "- The computer will take word and jumble it (mix up the letters).\n",
        "- Then the player will guess what the word is\n",
        "- An initial word list could be: ['father', 'enterprise', 'science', 'programming', 'resistance', 'fiction', 'condition', 'reverse', 'computer', 'python']"
      ]
    },
    {
      "cell_type": "code",
      "execution_count": 1,
      "metadata": {
        "id": "oxPGAz9pdO2H"
      },
      "outputs": [],
      "source": [
        "# Need to import random in order to jumble words\n",
        "# And then need to add list that was to be jumbled\n",
        "import random    \n",
        "puzzle = ['father', 'enterprise', 'science', 'programming', 'resistance', 'fiction', 'condition', 'reverse', 'computer', 'python']"
      ]
    },
    {
      "cell_type": "code",
      "execution_count": 30,
      "metadata": {
        "id": "YDrI0mX-dO2K",
        "outputId": "1ef61ed6-1aea-49dc-ba08-06d1313b3212",
        "colab": {
          "base_uri": "https://localhost:8080/"
        }
      },
      "outputs": [
        {
          "output_type": "stream",
          "name": "stdout",
          "text": [
            "computer\n"
          ]
        }
      ],
      "source": [
        "# What was my thinking?\n",
        "# I wanted to pick a random word from the list index\n",
        "# So I used random.randint(x,y) where it went from 0-length of sting and store that in i\n",
        "\n",
        "i = random.randint(0,len(puzzle))\n",
        "\n",
        "# Then go to random sample where it chooses a string based off the i value\n",
        "# and then scrambles based on the length of it\n",
        "# store that into answer and print it out for reference\n",
        "random.sample(puzzle[i],len(puzzle[i]))\n",
        "answer = puzzle[i]\n",
        "print(answer)"
      ]
    },
    {
      "cell_type": "code",
      "execution_count": 33,
      "metadata": {
        "id": "DNCb2l5gdO2M",
        "outputId": "bea8e6c0-70ea-45d4-f9b8-fdadd2909f82",
        "colab": {
          "base_uri": "https://localhost:8080/"
        }
      },
      "outputs": [
        {
          "output_type": "stream",
          "name": "stdout",
          "text": [
            "What do you think the word is? computer\n",
            "\n",
            "You got it!!!!\n"
          ]
        }
      ],
      "source": [
        "#Ask user what their guess is and see if guess matches answer\n",
        "#Print out statment to let them know\n",
        "guess = input(\"What do you think the word is? \")\n",
        "if guess.lower() == answer:\n",
        "    print(\"\\nYou got it!!!!\")\n",
        "else:\n",
        "    print(\"\\nthat is wrong!!\")"
      ]
    },
    {
      "cell_type": "code",
      "source": [
        "#instuctor \n",
        "\n",
        "import random\n",
        "\n",
        "words = ['father', 'enterprise', 'science', 'programming', 'resistance', 'fiction', 'condition', 'reverse', 'computer', 'python']\n",
        "word = random.choice(words)\n",
        "\n",
        "jumble = ''.join(random.sample(word,len(word)))\n",
        "\n",
        "print(f\"The jumble word is {jumble}.\")\n",
        "guess = input(\"Write your guess: \")\n",
        "\n",
        "if guess ==word:\n",
        "    print(\"Correct\")\n",
        "else:\n",
        "    print(f\"Incorrect: The word is {word}.\")"
      ],
      "metadata": {
        "id": "LwgZCfnC3a3J",
        "outputId": "4f657cbd-0659-4dc5-c008-b6533a7d57e9",
        "colab": {
          "base_uri": "https://localhost:8080/"
        }
      },
      "execution_count": 44,
      "outputs": [
        {
          "output_type": "stream",
          "name": "stdout",
          "text": [
            "The jumble word is ervesre.\n",
            "Write your guess: reverse\n",
            "Correct\n"
          ]
        }
      ]
    },
    {
      "cell_type": "code",
      "source": [
        "import this"
      ],
      "metadata": {
        "id": "_RcUkSOy6tko",
        "outputId": "d95a78da-72d4-4ae6-d786-10b3490a11be",
        "colab": {
          "base_uri": "https://localhost:8080/"
        }
      },
      "execution_count": 1,
      "outputs": [
        {
          "output_type": "stream",
          "name": "stdout",
          "text": [
            "The Zen of Python, by Tim Peters\n",
            "\n",
            "Beautiful is better than ugly.\n",
            "Explicit is better than implicit.\n",
            "Simple is better than complex.\n",
            "Complex is better than complicated.\n",
            "Flat is better than nested.\n",
            "Sparse is better than dense.\n",
            "Readability counts.\n",
            "Special cases aren't special enough to break the rules.\n",
            "Although practicality beats purity.\n",
            "Errors should never pass silently.\n",
            "Unless explicitly silenced.\n",
            "In the face of ambiguity, refuse the temptation to guess.\n",
            "There should be one-- and preferably only one --obvious way to do it.\n",
            "Although that way may not be obvious at first unless you're Dutch.\n",
            "Now is better than never.\n",
            "Although never is often better than *right* now.\n",
            "If the implementation is hard to explain, it's a bad idea.\n",
            "If the implementation is easy to explain, it may be a good idea.\n",
            "Namespaces are one honking great idea -- let's do more of those!\n"
          ]
        }
      ]
    },
    {
      "cell_type": "code",
      "source": [
        ""
      ],
      "metadata": {
        "id": "Zt2_jxrf7axQ"
      },
      "execution_count": null,
      "outputs": []
    }
  ],
  "metadata": {
    "kernelspec": {
      "display_name": "Python 3",
      "language": "python",
      "name": "python3"
    },
    "language_info": {
      "codemirror_mode": {
        "name": "ipython",
        "version": 3
      },
      "file_extension": ".py",
      "mimetype": "text/x-python",
      "name": "python",
      "nbconvert_exporter": "python",
      "pygments_lexer": "ipython3",
      "version": "3.8.8"
    },
    "colab": {
      "name": "05 - Project - Jumbled Game.ipynb",
      "provenance": [],
      "include_colab_link": true
    }
  },
  "nbformat": 4,
  "nbformat_minor": 0
}